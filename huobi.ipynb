{
 "cells": [
  {
   "cell_type": "code",
   "execution_count": 1,
   "metadata": {},
   "outputs": [],
   "source": [
    "import base64\n",
    "import requests\n",
    "import hashlib\n",
    "import hmac\n",
    "import datetime\n",
    "from urllib import parse\n",
    "import urllib.parse\n",
    "from privateconfig import p_api_key, p_secret_key"
   ]
  },
  {
   "cell_type": "code",
   "execution_count": 2,
   "metadata": {},
   "outputs": [],
   "source": [
    "def post_huobi(url, data, api_key, secret_key):\n",
    "    timestamp = datetime.datetime.utcnow().strftime('%Y-%m-%dT%H:%M:%S')\n",
    "    param = {\"AccessKeyId\": api_key,\n",
    "             \"SignatureVersion\": \"2\",\n",
    "             \"SignatureMethod\": \"HmacSHA256\",\n",
    "             \"Timestamp\": timestamp\n",
    "            }\n",
    "\n",
    "    host = urllib.parse.urlparse(url).hostname\n",
    "    path = urllib.parse.urlparse(url).path\n",
    "    \n",
    "    method = \"POST\"\n",
    "    \n",
    "    keys = sorted(param.keys())\n",
    "    qs0 = '&'.join(['%s=%s' % (key, parse.quote(param[key], safe='')) for key in keys])\n",
    "    payload0 = '%s\\n%s\\n%s\\n%s' % (method, host, path, qs0)\n",
    "    dig = hmac.new(secret_key.encode('utf-8'), msg=payload0.encode('utf-8'), digestmod=hashlib.sha256).digest()\n",
    "    s = base64.b64encode(dig).decode()\n",
    "    param[\"Signature\"] =  s\n",
    "    response = requests.post(url + \"?\" + urllib.parse.urlencode(param) , headers = {'Content-Type': 'application/json'}, json = data)\n",
    "    print(response.text)"
   ]
  },
  {
   "cell_type": "code",
   "execution_count": 3,
   "metadata": {},
   "outputs": [],
   "source": [
    "data = {'type': 0,\n",
    "        'trade_type': 0,\n",
    "        'create_date': 30,\n",
    "        'status': 0,\n",
    "        'symbol': 'ETH'\n",
    "       }"
   ]
  },
  {
   "cell_type": "code",
   "execution_count": 4,
   "metadata": {},
   "outputs": [
    {
     "name": "stdout",
     "output_type": "stream",
     "text": [
      "{\"status\":\"ok\",\"data\":{\"orders\":[{\"order_id\":810225244551110656,\"contract_code\":\"ETH210326\",\"symbol\":\"ETH\",\"lever_rate\":20,\"direction\":\"sell\",\"offset\":\"close\",\"volume\":509.000000000000000000,\"price\":1850.704000000000000000,\"create_date\":1613214351558,\"order_source\":\"risk\",\"order_price_type\":1,\"order_type\":3,\"margin_frozen\":0E-18,\"profit\":-0.106251919785004660,\"contract_type\":\"quarter\",\"trade_volume\":509.000000000000000000,\"trade_turnover\":5090.000000000000000000,\"fee\":0E-18,\"trade_avg_price\":1850.704,\"status\":6,\"order_id_str\":\"810225244551110656\",\"fee_asset\":\"ETH\",\"liquidation_type\":\"3\",\"update_time\":1613214351000,\"is_tpsl\":0,\"real_profit\":-0.13064442980137565},{\"order_id\":810166248821739520,\"contract_code\":\"ETH210326\",\"symbol\":\"ETH\",\"lever_rate\":20,\"direction\":\"buy\",\"offset\":\"open\",\"volume\":509.000000000000000000,\"price\":1943.000000000000000000,\"create_date\":1613200285879,\"order_source\":\"web\",\"order_price_type\":1,\"order_type\":1,\"margin_frozen\":0E-18,\"profit\":0E-18,\"contract_type\":\"quarter\",\"trade_volume\":509.000000000000000000,\"trade_turnover\":5090.000000000000000000,\"fee\":-0.000523932063818836,\"trade_avg_price\":1943.000,\"status\":6,\"order_id_str\":\"810166248821739520\",\"fee_asset\":\"ETH\",\"liquidation_type\":\"0\",\"update_time\":1613200317000,\"is_tpsl\":0,\"real_profit\":0},{\"order_id\":810055967001411584,\"contract_code\":\"ETH210326\",\"symbol\":\"ETH\",\"lever_rate\":20,\"direction\":\"sell\",\"offset\":\"close\",\"volume\":560.000000000000000000,\"price\":1948.000000000000000000,\"create_date\":1613173992643,\"order_source\":\"web\",\"order_price_type\":1,\"order_type\":1,\"margin_frozen\":0E-18,\"profit\":-0.011631869952785600,\"contract_type\":\"quarter\",\"trade_volume\":560.000000000000000000,\"trade_turnover\":5600.000000000000000000,\"fee\":-0.000574948665297741,\"trade_avg_price\":1948.000,\"status\":6,\"order_id_str\":\"810055967001411584\",\"fee_asset\":\"ETH\",\"liquidation_type\":\"0\",\"update_time\":1613174001000,\"is_tpsl\":0,\"real_profit\":-0.0116318699527856},{\"order_id\":810016856600989696,\"contract_code\":\"ETH210326\",\"symbol\":\"ETH\",\"lever_rate\":20,\"direction\":\"sell\",\"offset\":\"close\",\"volume\":560.000000000000000000,\"price\":1970.000000000000000000,\"create_date\":1613164667997,\"order_source\":\"web\",\"order_price_type\":1,\"order_type\":1,\"margin_frozen\":0E-18,\"profit\":0E-18,\"contract_type\":\"quarter\",\"trade_volume\":0E-18,\"trade_turnover\":0E-18,\"fee\":0E-18,\"trade_avg_price\":0,\"status\":7,\"order_id_str\":\"810016856600989696\",\"fee_asset\":\"ETH\",\"liquidation_type\":\"0\",\"update_time\":1613165168000,\"is_tpsl\":0,\"real_profit\":0},{\"order_id\":810010639862214656,\"contract_code\":\"ETH210326\",\"symbol\":\"ETH\",\"lever_rate\":20,\"direction\":\"buy\",\"offset\":\"open\",\"volume\":560.000000000000000000,\"price\":1956.537000000000000000,\"create_date\":1613163185811,\"order_source\":\"ios\",\"order_price_type\":1,\"order_type\":1,\"margin_frozen\":0E-18,\"profit\":0E-18,\"contract_type\":\"quarter\",\"trade_volume\":560.000000000000000000,\"trade_turnover\":5600.000000000000000000,\"fee\":-0.001145244582614362,\"trade_avg_price\":1955.914,\"status\":6,\"order_id_str\":\"810010639862214656\",\"fee_asset\":\"ETH\",\"liquidation_type\":\"0\",\"update_time\":1613163186000,\"is_tpsl\":0,\"real_profit\":0},{\"order_id\":810009740054044672,\"contract_code\":\"ETH210326\",\"symbol\":\"ETH\",\"lever_rate\":10,\"direction\":\"sell\",\"offset\":\"close\",\"volume\":260.000000000000000000,\"price\":1951.000000000000000000,\"create_date\":1613162971280,\"order_source\":\"ios\",\"order_price_type\":1,\"order_type\":1,\"margin_frozen\":0E-18,\"profit\":0.010068260390102200,\"contract_type\":\"quarter\",\"trade_volume\":260.000000000000000000,\"trade_turnover\":2600.000000000000000000,\"fee\":-0.000532228209220956,\"trade_avg_price\":1954.049,\"status\":6,\"order_id_str\":\"810009740054044672\",\"fee_asset\":\"ETH\",\"liquidation_type\":\"0\",\"update_time\":1613162971000,\"is_tpsl\":0,\"real_profit\":0.0100682603901022},{\"order_id\":809985754058620928,\"contract_code\":\"ETH210326\",\"symbol\":\"ETH\",\"lever_rate\":10,\"direction\":\"buy\",\"offset\":\"open\",\"volume\":260.000000000000000000,\"price\":1939.374000000000000000,\"create_date\":1613157252572,\"order_source\":\"ios\",\"order_price_type\":1,\"order_type\":1,\"margin_frozen\":0E-18,\"profit\":0E-18,\"contract_type\":\"quarter\",\"trade_volume\":260.000000000000000000,\"trade_turnover\":2600.000000000000000000,\"fee\":-0.000268127756688498,\"trade_avg_price\":1939.374,\"status\":6,\"order_id_str\":\"809985754058620928\",\"fee_asset\":\"ETH\",\"liquidation_type\":\"0\",\"update_time\":1613157260000,\"is_tpsl\":0,\"real_profit\":0},{\"order_id\":809984637132017664,\"contract_code\":\"ETH210326\",\"symbol\":\"ETH\",\"lever_rate\":5,\"direction\":\"sell\",\"offset\":\"close\",\"volume\":127.000000000000000000,\"price\":1939.187000000000000000,\"create_date\":1613156986277,\"order_source\":\"ios\",\"order_price_type\":1,\"order_type\":1,\"margin_frozen\":0E-18,\"profit\":0.002683849090302260,\"contract_type\":\"quarter\",\"trade_volume\":127.000000000000000000,\"trade_turnover\":1270.000000000000000000,\"fee\":-0.000130982726266213,\"trade_avg_price\":1939.187,\"status\":6,\"order_id_str\":\"809984637132017664\",\"fee_asset\":\"ETH\",\"liquidation_type\":\"0\",\"update_time\":1613157183000,\"is_tpsl\":0,\"real_profit\":0.00268384909030226},{\"order_id\":809976911890997248,\"contract_code\":\"ETH210326\",\"symbol\":\"ETH\",\"lever_rate\":5,\"direction\":\"buy\",\"offset\":\"open\",\"volume\":37.000000000000000000,\"price\":1931.139000000000000000,\"create_date\":1613155144435,\"order_source\":\"web\",\"order_price_type\":7,\"order_type\":1,\"margin_frozen\":0E-18,\"profit\":0E-18,\"contract_type\":\"quarter\",\"trade_volume\":37.000000000000000000,\"trade_turnover\":370.000000000000000000,\"fee\":-0.000046605026908893,\"trade_avg_price\":1931.129,\"status\":6,\"order_id_str\":\"809976911890997248\",\"fee_asset\":\"ETH\",\"liquidation_type\":\"0\",\"update_time\":1613155157000,\"is_tpsl\":0,\"real_profit\":0},{\"order_id\":809966212812779520,\"contract_code\":\"ETH210326\",\"symbol\":\"ETH\",\"lever_rate\":5,\"direction\":\"buy\",\"offset\":\"open\",\"volume\":27.000000000000000000,\"price\":1954.533000000000000000,\"create_date\":1613152593577,\"order_source\":\"ios\",\"order_price_type\":1,\"order_type\":1,\"margin_frozen\":0E-18,\"profit\":0E-18,\"contract_type\":\"quarter\",\"trade_volume\":27.000000000000000000,\"trade_turnover\":270.000000000000000000,\"fee\":-0.000027628083025459,\"trade_avg_price\":1954.533,\"status\":6,\"order_id_str\":\"809966212812779520\",\"fee_asset\":\"ETH\",\"liquidation_type\":\"0\",\"update_time\":1613152600000,\"is_tpsl\":0,\"real_profit\":0},{\"order_id\":809963408912261120,\"contract_code\":\"ETH210326\",\"symbol\":\"ETH\",\"lever_rate\":5,\"direction\":\"buy\",\"offset\":\"open\",\"volume\":17.000000000000000000,\"price\":1935.054000000000000000,\"create_date\":1613151925075,\"order_source\":\"ios\",\"order_price_type\":1,\"order_type\":1,\"margin_frozen\":0E-18,\"profit\":0E-18,\"contract_type\":\"quarter\",\"trade_volume\":17.000000000000000000,\"trade_turnover\":170.000000000000000000,\"fee\":-0.000017570569090061,\"trade_avg_price\":1935.054,\"status\":6,\"order_id_str\":\"809963408912261120\",\"fee_asset\":\"ETH\",\"liquidation_type\":\"0\",\"update_time\":1613154301000,\"is_tpsl\":0,\"real_profit\":0},{\"order_id\":809951923946967040,\"contract_code\":\"ETH210326\",\"symbol\":\"ETH\",\"lever_rate\":5,\"direction\":\"buy\",\"offset\":\"open\",\"volume\":28.000000000000000000,\"price\":1922.315000000000000000,\"create_date\":1613149186845,\"order_source\":\"ios\",\"order_price_type\":1,\"order_type\":1,\"margin_frozen\":0E-18,\"profit\":0E-18,\"contract_type\":\"quarter\",\"trade_volume\":28.000000000000000000,\"trade_turnover\":280.000000000000000000,\"fee\":-0.000029131541916907,\"trade_avg_price\":1922.315,\"status\":6,\"order_id_str\":\"809951923946967040\",\"fee_asset\":\"ETH\",\"liquidation_type\":\"0\",\"update_time\":1613149251000,\"is_tpsl\":0,\"real_profit\":0},{\"order_id\":809950335510151168,\"contract_code\":\"ETH210326\",\"symbol\":\"ETH\",\"lever_rate\":5,\"direction\":\"buy\",\"offset\":\"open\",\"volume\":18.000000000000000000,\"price\":1908.985000000000000000,\"create_date\":1613148808133,\"order_source\":\"ios\",\"order_price_type\":1,\"order_type\":1,\"margin_frozen\":0E-18,\"profit\":0E-18,\"contract_type\":\"quarter\",\"trade_volume\":18.000000000000000000,\"trade_turnover\":180.000000000000000000,\"fee\":-0.000037739488504132,\"trade_avg_price\":1907.816,\"status\":6,\"order_id_str\":\"809950335510151168\",\"fee_asset\":\"ETH\",\"liquidation_type\":\"0\",\"update_time\":1613148808000,\"is_tpsl\":0,\"real_profit\":0}],\"total_page\":1,\"current_page\":1,\"total_size\":13},\"ts\":1613312846844}\n"
     ]
    }
   ],
   "source": [
    "post_huobi('https://api.hbdm.com/api/v1/contract_hisorders', data, p_api_key, p_secret_key)"
   ]
  },
  {
   "cell_type": "code",
   "execution_count": 20,
   "metadata": {},
   "outputs": [],
   "source": [
    "def get_huobi(url, api_key, secret_key):\n",
    "    timestamp = datetime.datetime.utcnow().strftime('%Y-%m-%dT%H:%M:%S')\n",
    "    param = {\"AccessKeyId\": api_key,\n",
    "             \"SignatureVersion\": \"2\",\n",
    "             \"SignatureMethod\": \"HmacSHA256\",\n",
    "             \"Timestamp\": timestamp\n",
    "            }\n",
    "\n",
    "    host = urllib.parse.urlparse(url).hostname\n",
    "    path = urllib.parse.urlparse(url).path\n",
    "    \n",
    "    method = \"GET\"\n",
    "    \n",
    "    keys = sorted(param.keys())\n",
    "    qs0 = '&'.join(['%s=%s' % (key, parse.quote(param[key], safe='')) for key in keys])\n",
    "    payload0 = '%s\\n%s\\n%s\\n%s' % (method, host, path, qs0)\n",
    "    dig = hmac.new(secret_key.encode('utf-8'), msg=payload0.encode('utf-8'), digestmod=hashlib.sha256).digest()\n",
    "    s = base64.b64encode(dig).decode()\n",
    "    param[\"Signature\"] =  s\n",
    "    print(urllib.parse.urlencode(param))\n",
    "    response = requests.get(url + \"?\" + urllib.parse.urlencode(param) , headers = {'Content-Type': 'application/json'})\n",
    "    print(response.text)"
   ]
  },
  {
   "cell_type": "code",
   "execution_count": 21,
   "metadata": {},
   "outputs": [
    {
     "name": "stdout",
     "output_type": "stream",
     "text": [
      "AccessKeyId=8e454fd1-a0241651-cdgs9k03f3-41c25&SignatureVersion=2&SignatureMethod=HmacSHA256&Timestamp=2021-02-14T14%3A39%3A53&symbol=ETH&Signature=B6v1tzztRmMSd1iQ%2FBiPB5Ml1a25Gl03h6HTd2PbmZ0%3D\n",
      "{\"status\":\"ok\",\"data\":[{\"volume\":1130369.000000000000000000,\"amount\":15158.515701375487964983,\"symbol\":\"BCH\",\"contract_type\":\"next_quarter\",\"contract_code\":\"BCH210625\",\"trade_amount\":138070.6564951371445943418259704270905814102,\"trade_volume\":9968706,\"trade_turnover\":99687060.000000000000000000},{\"volume\":342007.000000000000000000,\"amount\":654183.244070390206579954,\"symbol\":\"EOS\",\"contract_type\":\"next_week\",\"contract_code\":\"EOS210226\",\"trade_amount\":10554546.0578045196132533917095429281826016334,\"trade_volume\":5673756,\"trade_turnover\":56737560.000000000000000000},{\"volume\":107904.000000000000000000,\"amount\":38534.528014170467004024,\"symbol\":\"DOT\",\"contract_type\":\"this_week\",\"contract_code\":\"DOT210219\",\"trade_amount\":86969.1481291308937779156732408279465425856,\"trade_volume\":249254,\"trade_turnover\":2492540.000000000000000000},{\"volume\":470870.000000000000000000,\"amount\":6692.410899560538269555,\"symbol\":\"BCH\",\"contract_type\":\"next_week\",\"contract_code\":\"BCH210226\",\"trade_amount\":38180.3140098406083416039721625417689417008,\"trade_volume\":2626766,\"trade_turnover\":26267660.000000000000000000},{\"volume\":919574.000000000000000000,\"amount\":10741168.596495121600801755,\"symbol\":\"ADA\",\"contract_type\":\"quarter\",\"contract_code\":\"ADA210326\",\"trade_amount\":34620429.2200508181223522934769080668915361126,\"trade_volume\":3078028,\"trade_turnover\":30780280.000000000000000000},{\"volume\":109464.000000000000000000,\"amount\":31590.612626548304801043,\"symbol\":\"LINK\",\"contract_type\":\"next_week\",\"contract_code\":\"LINK210226\",\"trade_amount\":74863.6446305080855671124186412805911203108,\"trade_volume\":255684,\"trade_turnover\":2556840.000000000000000000},{\"volume\":452203.000000000000000000,\"amount\":266236.679423020312040035,\"symbol\":\"ETC\",\"contract_type\":\"quarter\",\"contract_code\":\"ETC210326\",\"trade_amount\":10747733.6311794196945923352632075731309945572,\"trade_volume\":17452948,\"trade_turnover\":174529480.000000000000000000},{\"volume\":668499.000000000000000000,\"amount\":127333.142857142857142857,\"symbol\":\"FIL\",\"contract_type\":\"quarter\",\"contract_code\":\"FIL210326\",\"trade_amount\":510847.1389523966808435267491341263182767414,\"trade_volume\":2356472,\"trade_turnover\":23564720.000000000000000000},{\"volume\":2534858.000000000000000000,\"amount\":13704.794622013025420439,\"symbol\":\"ETH\",\"contract_type\":\"next_week\",\"contract_code\":\"ETH210226\",\"trade_amount\":64082.059916307089268206843981090469067975,\"trade_volume\":11912928,\"trade_turnover\":119129280.000000000000000000},{\"volume\":873006.000000000000000000,\"amount\":38808.718343105831936732,\"symbol\":\"LTC\",\"contract_type\":\"next_week\",\"contract_code\":\"LTC210226\",\"trade_amount\":194568.0989136438085179560618182198032977576,\"trade_volume\":4401676,\"trade_turnover\":44016760.000000000000000000},{\"volume\":2756022.000000000000000000,\"amount\":15004.213776763471019668,\"symbol\":\"ETH\",\"contract_type\":\"this_week\",\"contract_code\":\"ETH210219\",\"trade_amount\":102841.1426842857329868563126921315595551032,\"trade_volume\":18971498,\"trade_turnover\":189714980.000000000000000000},{\"volume\":491675.000000000000000000,\"amount\":985.894593946977148019,\"symbol\":\"BTC\",\"contract_type\":\"next_week\",\"contract_code\":\"BTC210226\",\"trade_amount\":7088.8972836159171586666136541467930091232,\"trade_volume\":3457002,\"trade_turnover\":345700200.000000000000000000},{\"volume\":1929904.000000000000000000,\"amount\":81007.055939623655236967,\"symbol\":\"LTC\",\"contract_type\":\"next_quarter\",\"contract_code\":\"LTC210625\",\"trade_amount\":399969.2935045735267441680790289703346915382,\"trade_volume\":9488202,\"trade_turnover\":94882020.000000000000000000},{\"volume\":131467.000000000000000000,\"amount\":38520.951574481301661065,\"symbol\":\"LINK\",\"contract_type\":\"this_week\",\"contract_code\":\"LINK210219\",\"trade_amount\":553466.8650457420966923662290440920646505308,\"trade_volume\":1876894,\"trade_turnover\":18768940.000000000000000000},{\"volume\":1973067.000000000000000000,\"amount\":3660.783265983145754711,\"symbol\":\"BTC\",\"contract_type\":\"next_quarter\",\"contract_code\":\"BTC210625\",\"trade_amount\":9226.6312174242816764580022327012588019982,\"trade_volume\":4866088,\"trade_turnover\":486608800.000000000000000000},{\"volume\":742580.000000000000000000,\"amount\":1361782.505043095543737392,\"symbol\":\"EOS\",\"contract_type\":\"next_quarter\",\"contract_code\":\"EOS210625\",\"trade_amount\":20546710.1794326909956113114853128608165778152,\"trade_volume\":11457192,\"trade_turnover\":114571920.000000000000000000},{\"volume\":1227364.000000000000000000,\"amount\":401217.351508613644535974,\"symbol\":\"DOT\",\"contract_type\":\"next_quarter\",\"contract_code\":\"DOT210625\",\"trade_amount\":770839.0316005478066670906374015933465425916,\"trade_volume\":2418740,\"trade_turnover\":24187400.000000000000000000},{\"volume\":69607.000000000000000000,\"amount\":829572.229286913741506976,\"symbol\":\"ADA\",\"contract_type\":\"this_week\",\"contract_code\":\"ADA210219\",\"trade_amount\":8432834.7755653428687109735010381157637955614,\"trade_volume\":745972,\"trade_turnover\":7459720.000000000000000000},{\"volume\":365211.000000000000000000,\"amount\":6040539.199470724445914654,\"symbol\":\"XRP\",\"contract_type\":\"next_quarter\",\"contract_code\":\"XRP210625\",\"trade_amount\":65411067.4713980930235935812536123274905500874,\"trade_volume\":4120754,\"trade_turnover\":41207540.000000000000000000},{\"volume\":357293.000000000000000000,\"amount\":6031279.540850776502363268,\"symbol\":\"XRP\",\"contract_type\":\"next_week\",\"contract_code\":\"XRP210226\",\"trade_amount\":29745163.1721108620747537701731653527544012168,\"trade_volume\":1846006,\"trade_turnover\":18460060.000000000000000000},{\"volume\":2846068.000000000000000000,\"amount\":103401.636366278647309296,\"symbol\":\"BSV\",\"contract_type\":\"quarter\",\"contract_code\":\"BSV210326\",\"trade_amount\":1093004.3619844487085328892686182313560667242,\"trade_volume\":30152548,\"trade_turnover\":301525480.000000000000000000},{\"volume\":388206.000000000000000000,\"amount\":70429245.283018867924528301,\"symbol\":\"TRX\",\"contract_type\":\"quarter\",\"contract_code\":\"TRX210326\",\"trade_amount\":681387100.907106864868259631047499614182485055,\"trade_volume\":3916870,\"trade_turnover\":39168700.000000000000000000},{\"volume\":687844.000000000000000000,\"amount\":194528.768789151430308686,\"symbol\":\"LINK\",\"contract_type\":\"quarter\",\"contract_code\":\"LINK210326\",\"trade_amount\":3232848.8596959672536884233707698256273238256,\"trade_volume\":11264548,\"trade_turnover\":112645480.000000000000000000},{\"volume\":565376.000000000000000000,\"amount\":1088098.537336412625096227,\"symbol\":\"EOS\",\"contract_type\":\"this_week\",\"contract_code\":\"EOS210219\",\"trade_amount\":19307887.1358831012350680050229740747835607166,\"trade_volume\":10339618,\"trade_turnover\":103396180.000000000000000000},{\"volume\":710676.000000000000000000,\"amount\":1434.734920390417738581,\"symbol\":\"BTC\",\"contract_type\":\"this_week\",\"contract_code\":\"BTC210219\",\"trade_amount\":10758.8598933998321197451497810768410547738,\"trade_volume\":5247050,\"trade_turnover\":524705000.000000000000000000},{\"volume\":552974.000000000000000000,\"amount\":7956.082660823299037599,\"symbol\":\"BCH\",\"contract_type\":\"this_week\",\"contract_code\":\"BCH210219\",\"trade_amount\":127911.2520133163250065907383896628487247184,\"trade_volume\":8641788,\"trade_turnover\":86417880.000000000000000000},{\"volume\":81564.000000000000000000,\"amount\":29127.919434326119562888,\"symbol\":\"DOT\",\"contract_type\":\"next_week\",\"contract_code\":\"DOT210226\",\"trade_amount\":41044.130549726196437195083699921785753843,\"trade_volume\":117316,\"trade_turnover\":1173160.000000000000000000},{\"volume\":3456910.000000000000000000,\"amount\":6463930.441286462228870605,\"symbol\":\"EOS\",\"contract_type\":\"quarter\",\"contract_code\":\"EOS210326\",\"trade_amount\":79014372.7857727633834382396453965495511814924,\"trade_volume\":43232954,\"trade_turnover\":432329540.000000000000000000},{\"volume\":3376697.000000000000000000,\"amount\":46785.310006470447236758,\"symbol\":\"BCH\",\"contract_type\":\"quarter\",\"contract_code\":\"BCH210326\",\"trade_amount\":486585.3907541550410343862978543769883989508,\"trade_volume\":33862918,\"trade_turnover\":338629180.000000000000000000},{\"volume\":30110.000000000000000000,\"amount\":356787.373210730874964451,\"symbol\":\"ADA\",\"contract_type\":\"next_week\",\"contract_code\":\"ADA210226\",\"trade_amount\":1286094.0236400792000786448396863996280703004,\"trade_volume\":112744,\"trade_turnover\":1127440.000000000000000000},{\"volume\":327789.000000000000000000,\"amount\":3775422.762485919434980615,\"symbol\":\"ADA\",\"contract_type\":\"next_quarter\",\"contract_code\":\"ADA210625\",\"trade_amount\":6489433.0241823800506097126108477666554968414,\"trade_volume\":585870,\"trade_turnover\":5858700.000000000000000000},{\"volume\":71461.000000000000000000,\"amount\":42224.651382651855353344,\"symbol\":\"ETC\",\"contract_type\":\"next_week\",\"contract_code\":\"ETC210226\",\"trade_amount\":2148685.8252444395576758864025086645204308996,\"trade_volume\":3482942,\"trade_turnover\":34829420.000000000000000000},{\"volume\":205847.000000000000000000,\"amount\":3509154.449369246505284691,\"symbol\":\"XRP\",\"contract_type\":\"this_week\",\"contract_code\":\"XRP210219\",\"trade_amount\":117327949.9035437790123650279126959123012884996,\"trade_volume\":7212892,\"trade_turnover\":72128920.000000000000000000},{\"volume\":55360.000000000000000000,\"amount\":10000000.000000000000000000,\"symbol\":\"TRX\",\"contract_type\":\"next_week\",\"contract_code\":\"TRX210226\",\"trade_amount\":230596125.2751439171412255060980216447913973052,\"trade_volume\":1337046,\"trade_turnover\":13370460.000000000000000000},{\"volume\":179650.000000000000000000,\"amount\":104813.302217036172695449,\"symbol\":\"ETC\",\"contract_type\":\"next_quarter\",\"contract_code\":\"ETC210625\",\"trade_amount\":1572633.2908391145816922056283365709148169774,\"trade_volume\":2559104,\"trade_turnover\":25591040.000000000000000000},{\"volume\":32306954.000000000000000000,\"amount\":169027.682658405799906976,\"symbol\":\"ETH\",\"contract_type\":\"quarter\",\"contract_code\":\"ETH210326\",\"trade_amount\":867823.906958218933138906431971230755850509,\"trade_volume\":166496518,\"trade_turnover\":1664965180.000000000000000000},{\"volume\":32188.000000000000000000,\"amount\":6482.197518930240051554,\"symbol\":\"FIL\",\"contract_type\":\"next_week\",\"contract_code\":\"FIL210226\",\"trade_amount\":28092.4949143650412205992423220030331544668,\"trade_volume\":123672,\"trade_turnover\":1236720.000000000000000000},{\"volume\":217377.000000000000000000,\"amount\":39354.225505105366065609,\"symbol\":\"FIL\",\"contract_type\":\"next_quarter\",\"contract_code\":\"FIL210625\",\"trade_amount\":60480.558893080719850671648982490104816147,\"trade_volume\":298462,\"trade_turnover\":2984620.000000000000000000},{\"volume\":6718667.000000000000000000,\"amount\":292881.268009014860570447,\"symbol\":\"LTC\",\"contract_type\":\"quarter\",\"contract_code\":\"LTC210326\",\"trade_amount\":2571335.3539937577671190385114523796177425326,\"trade_volume\":59322380,\"trade_turnover\":593223800.000000000000000000},{\"volume\":8284423.000000000000000000,\"amount\":16059.306682009202807792,\"symbol\":\"BTC\",\"contract_type\":\"quarter\",\"contract_code\":\"BTC210326\",\"trade_amount\":109381.9901429224773095709219291115001753068,\"trade_volume\":55419202,\"trade_turnover\":5541920200.000000000000000000},{\"volume\":52225.000000000000000000,\"amount\":9428597.219714749954865499,\"symbol\":\"TRX\",\"contract_type\":\"this_week\",\"contract_code\":\"TRX210219\",\"trade_amount\":227435224.918530571990458137899145105511400401,\"trade_volume\":1319846,\"trade_turnover\":13198460.000000000000000000},{\"volume\":182152.000000000000000000,\"amount\":6879.969179285155822131,\"symbol\":\"BSV\",\"contract_type\":\"this_week\",\"contract_code\":\"BSV210219\",\"trade_amount\":218220.7449026127203184457541881173619701124,\"trade_volume\":5811308,\"trade_turnover\":58113080.000000000000000000},{\"volume\":1400745.000000000000000000,\"amount\":23522166.246851385390428211,\"symbol\":\"XRP\",\"contract_type\":\"quarter\",\"contract_code\":\"XRP210326\",\"trade_amount\":391580052.2634147803458645225044075820084843076,\"trade_volume\":24406416,\"trade_turnover\":244064160.000000000000000000},{\"volume\":57186.000000000000000000,\"amount\":33966.500356379187455452,\"symbol\":\"ETC\",\"contract_type\":\"this_week\",\"contract_code\":\"ETC210219\",\"trade_amount\":2421100.672223053479716145386663768750589687,\"trade_volume\":3855154,\"trade_turnover\":38551540.000000000000000000},{\"volume\":8348244.000000000000000000,\"amount\":41802.272218575229122132,\"symbol\":\"ETH\",\"contract_type\":\"next_quarter\",\"contract_code\":\"ETH210625\",\"trade_amount\":67996.1305865295127167039978676409312626338,\"trade_volume\":13618352,\"trade_turnover\":136183520.000000000000000000},{\"volume\":53874.000000000000000000,\"amount\":10851.848121663813072817,\"symbol\":\"FIL\",\"contract_type\":\"this_week\",\"contract_code\":\"FIL210219\",\"trade_amount\":47394.9557875963285481478428215887047626646,\"trade_volume\":210618,\"trade_turnover\":2106180.000000000000000000},{\"volume\":133951.000000000000000000,\"amount\":4979.554055360183195663,\"symbol\":\"BSV\",\"contract_type\":\"next_week\",\"contract_code\":\"BSV210226\",\"trade_amount\":70892.3321947759792227692506636922665664572,\"trade_volume\":1912224,\"trade_turnover\":19122240.000000000000000000},{\"volume\":568652.000000000000000000,\"amount\":19806.412288187248567597,\"symbol\":\"BSV\",\"contract_type\":\"next_quarter\",\"contract_code\":\"BSV210625\",\"trade_amount\":130171.507504698271995158846520282355669776,\"trade_volume\":3756750,\"trade_turnover\":37567500.000000000000000000},{\"volume\":946650.000000000000000000,\"amount\":42649.576500270318976392,\"symbol\":\"LTC\",\"contract_type\":\"this_week\",\"contract_code\":\"LTC210219\",\"trade_amount\":499742.7975460150236843480635370224237006506,\"trade_volume\":11093018,\"trade_turnover\":110930180.000000000000000000},{\"volume\":190873.000000000000000000,\"amount\":34274196.444604058179206320,\"symbol\":\"TRX\",\"contract_type\":\"next_quarter\",\"contract_code\":\"TRX210625\",\"trade_amount\":142102395.5270856442158124723481620610873005698,\"trade_volume\":826116,\"trade_turnover\":8261160.000000000000000000},{\"volume\":252213.000000000000000000,\"amount\":68965.488954332543087536,\"symbol\":\"LINK\",\"contract_type\":\"next_quarter\",\"contract_code\":\"LINK210625\",\"trade_amount\":240622.9891860238785273910863830880029217912,\"trade_volume\":866642,\"trade_turnover\":8666420.000000000000000000},{\"volume\":2256169.000000000000000000,\"amount\":777204.066236526543871192,\"symbol\":\"DOT\",\"contract_type\":\"quarter\",\"contract_code\":\"DOT210326\",\"trade_amount\":2991632.5451025849712596648728483643332524312,\"trade_volume\":8882236,\"trade_turnover\":88822360.000000000000000000}],\"ts\":1613313554554}\n"
     ]
    }
   ],
   "source": [
    "get_huobi('https://api.hbdm.com/api/v1/contract_open_interest', p_api_key, p_secret_key)"
   ]
  },
  {
   "cell_type": "code",
   "execution_count": null,
   "metadata": {},
   "outputs": [],
   "source": []
  }
 ],
 "metadata": {
  "kernelspec": {
   "display_name": "Python 3",
   "language": "python",
   "name": "python3"
  },
  "language_info": {
   "codemirror_mode": {
    "name": "ipython",
    "version": 3
   },
   "file_extension": ".py",
   "mimetype": "text/x-python",
   "name": "python",
   "nbconvert_exporter": "python",
   "pygments_lexer": "ipython3",
   "version": "3.7.7"
  }
 },
 "nbformat": 4,
 "nbformat_minor": 4
}
